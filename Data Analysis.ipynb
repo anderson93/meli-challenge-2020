{
 "cells": [
  {
   "cell_type": "code",
   "execution_count": 1,
   "metadata": {},
   "outputs": [],
   "source": [
    "import pandas as pd\n",
    "import matplotlib\n",
    "%matplotlib inline\n",
    "#import nltk\n",
    "import spacy\n",
    "import sklearn\n",
    "import numpy as np"
   ]
  },
  {
   "cell_type": "code",
   "execution_count": 2,
   "metadata": {},
   "outputs": [],
   "source": [
    "train = pd.read_csv('./data/train.csv')\n",
    "test = pd.read_csv('./data/test.csv')"
   ]
  },
  {
   "cell_type": "code",
   "execution_count": 3,
   "metadata": {},
   "outputs": [
    {
     "name": "stdout",
     "output_type": "stream",
     "text": [
      "Train size:  20000000\n",
      "Test size:  246955  -  1.234775 % of train size\n"
     ]
    }
   ],
   "source": [
    "train_size = len(train)\n",
    "test_size = len(test)\n",
    "print(\"Train size: \", train_size)\n",
    "print(\"Test size: \", test_size, \" - \", test_size*100/train_size, \"% of train size\")"
   ]
  },
  {
   "cell_type": "code",
   "execution_count": 4,
   "metadata": {},
   "outputs": [
    {
     "data": {
      "text/html": [
       "<div>\n",
       "<style scoped>\n",
       "    .dataframe tbody tr th:only-of-type {\n",
       "        vertical-align: middle;\n",
       "    }\n",
       "\n",
       "    .dataframe tbody tr th {\n",
       "        vertical-align: top;\n",
       "    }\n",
       "\n",
       "    .dataframe thead th {\n",
       "        text-align: right;\n",
       "    }\n",
       "</style>\n",
       "<table border=\"1\" class=\"dataframe\">\n",
       "  <thead>\n",
       "    <tr style=\"text-align: right;\">\n",
       "      <th></th>\n",
       "      <th>id</th>\n",
       "      <th>title</th>\n",
       "      <th>language</th>\n",
       "    </tr>\n",
       "  </thead>\n",
       "  <tbody>\n",
       "    <tr>\n",
       "      <td>0</td>\n",
       "      <td>0</td>\n",
       "      <td>Kit Maternidade Bolsa-mala Baby/bebe Vinho Men...</td>\n",
       "      <td>portuguese</td>\n",
       "    </tr>\n",
       "    <tr>\n",
       "      <td>1</td>\n",
       "      <td>1</td>\n",
       "      <td>Trocador De Fraldas Fisher Price Feminino Rosa...</td>\n",
       "      <td>portuguese</td>\n",
       "    </tr>\n",
       "    <tr>\n",
       "      <td>2</td>\n",
       "      <td>2</td>\n",
       "      <td>Motor Ventoinha - Fiat Idea / Palio 1.8 - A 04...</td>\n",
       "      <td>portuguese</td>\n",
       "    </tr>\n",
       "    <tr>\n",
       "      <td>3</td>\n",
       "      <td>3</td>\n",
       "      <td>Amortecedor Mola Batente D Dir New Civic 14 - ...</td>\n",
       "      <td>portuguese</td>\n",
       "    </tr>\n",
       "    <tr>\n",
       "      <td>4</td>\n",
       "      <td>4</td>\n",
       "      <td>Cadeirinha De Carro Bebê Princesa Princess 9 A...</td>\n",
       "      <td>portuguese</td>\n",
       "    </tr>\n",
       "  </tbody>\n",
       "</table>\n",
       "</div>"
      ],
      "text/plain": [
       "   id                                              title    language\n",
       "0   0  Kit Maternidade Bolsa-mala Baby/bebe Vinho Men...  portuguese\n",
       "1   1  Trocador De Fraldas Fisher Price Feminino Rosa...  portuguese\n",
       "2   2  Motor Ventoinha - Fiat Idea / Palio 1.8 - A 04...  portuguese\n",
       "3   3  Amortecedor Mola Batente D Dir New Civic 14 - ...  portuguese\n",
       "4   4  Cadeirinha De Carro Bebê Princesa Princess 9 A...  portuguese"
      ]
     },
     "execution_count": 4,
     "metadata": {},
     "output_type": "execute_result"
    }
   ],
   "source": [
    "test.head()"
   ]
  },
  {
   "cell_type": "code",
   "execution_count": 5,
   "metadata": {},
   "outputs": [
    {
     "name": "stdout",
     "output_type": "stream",
     "text": [
      "label_quality:  ['unreliable' 'reliable']\n",
      "languages:  ['spanish' 'portuguese']\n",
      "Number of categories:  1588\n"
     ]
    }
   ],
   "source": [
    "label_quality_types = train['label_quality'].unique()\n",
    "language_types = train['language'].unique()\n",
    "category_types = train['category'].unique()\n",
    "print(\"label_quality: \", label_quality_types)\n",
    "print(\"languages: \", language_types)\n",
    "print(\"Number of categories: \", len(category_types))"
   ]
  },
  {
   "cell_type": "code",
   "execution_count": 6,
   "metadata": {},
   "outputs": [
    {
     "name": "stdout",
     "output_type": "stream",
     "text": [
      "unreliable    18815755\n",
      "reliable       1184245\n",
      "Name: label_quality, dtype: int64\n",
      "Percentages:  [94.078775  5.921225]\n"
     ]
    },
    {
     "data": {
      "image/png": "[encoded data removed]",
      "text/plain": [
       "<Figure size 432x288 with 1 Axes>"
      ]
     },
     "metadata": {},
     "output_type": "display_data"
    }
   ],
   "source": [
    "label_quality_freq = train['label_quality'].value_counts()\n",
    "print(label_quality_freq)\n",
    "print('Percentages: ', label_quality_freq.values*100/np.sum(label_quality_freq.values))\n",
    "plt = matplotlib.pyplot.pie(label_quality_freq.values, labels=label_quality_freq.index)"
   ]
  },
  {
   "cell_type": "code",
   "execution_count": 7,
   "metadata": {},
   "outputs": [
    {
     "name": "stdout",
     "output_type": "stream",
     "text": [
      "spanish       10000000\n",
      "portuguese    10000000\n",
      "Name: language, dtype: int64\n",
      "Percentages:  [0.5 0.5]\n"
     ]
    }
   ],
   "source": [
    "languages_freq = train['language'].value_counts()\n",
    "print(languages_freq)\n",
    "print('Percentages: ', languages_freq.values/np.sum(languages_freq.values))"
   ]
  },
  {
   "cell_type": "code",
   "execution_count": 8,
   "metadata": {},
   "outputs": [
    {
     "data": {
      "text/html": [
       "<div>\n",
       "<style scoped>\n",
       "    .dataframe tbody tr th:only-of-type {\n",
       "        vertical-align: middle;\n",
       "    }\n",
       "\n",
       "    .dataframe tbody tr th {\n",
       "        vertical-align: top;\n",
       "    }\n",
       "\n",
       "    .dataframe thead th {\n",
       "        text-align: right;\n",
       "    }\n",
       "</style>\n",
       "<table border=\"1\" class=\"dataframe\">\n",
       "  <thead>\n",
       "    <tr style=\"text-align: right;\">\n",
       "      <th></th>\n",
       "      <th>Portuguese</th>\n",
       "      <th>Spanish:</th>\n",
       "    </tr>\n",
       "  </thead>\n",
       "  <tbody>\n",
       "    <tr>\n",
       "      <td>unreliable</td>\n",
       "      <td>46.53341</td>\n",
       "      <td>47.545365</td>\n",
       "    </tr>\n",
       "    <tr>\n",
       "      <td>reliable</td>\n",
       "      <td>3.46659</td>\n",
       "      <td>2.454635</td>\n",
       "    </tr>\n",
       "  </tbody>\n",
       "</table>\n",
       "</div>"
      ],
      "text/plain": [
       "            Portuguese   Spanish:\n",
       "unreliable    46.53341  47.545365\n",
       "reliable       3.46659   2.454635"
      ]
     },
     "execution_count": 8,
     "metadata": {},
     "output_type": "execute_result"
    }
   ],
   "source": [
    "port_quality_freq = train[train['language'] == 'portuguese']['label_quality'].value_counts()\n",
    "esp_quality_freq = train[train['language'] == 'spanish']['label_quality'].value_counts()\n",
    "quality_freq_per_lang = pd.DataFrame({'Portuguese': port_quality_freq*100/train_size, 'Spanish:': esp_quality_freq*100/train_size})\n",
    "quality_freq_per_lang"
   ]
  },
  {
   "cell_type": "code",
   "execution_count": 9,
   "metadata": {},
   "outputs": [
    {
     "name": "stdout",
     "output_type": "stream",
     "text": [
      "spanish       124987\n",
      "portuguese    121968\n",
      "Name: language, dtype: int64\n",
      "Percentages:  [0.50611245 0.49388755]\n"
     ]
    }
   ],
   "source": [
    "languages_freq_test = test['language'].value_counts()\n",
    "print(languages_freq_test)\n",
    "print('Percentages: ', languages_freq_test.values/np.sum(languages_freq_test.values))"
   ]
  },
  {
   "cell_type": "code",
   "execution_count": 10,
   "metadata": {},
   "outputs": [
    {
     "name": "stdout",
     "output_type": "stream",
     "text": [
      "                    Qntd  Percentage\n",
      "PANTS              35973  0.179865 %\n",
      "COFFEE_MAKERS      35104   0.17552 %\n",
      "BABY_CAR_SEATS     34163  0.170815 %\n",
      "MUSICAL_KEYBOARDS  33222   0.16611 %\n",
      "MATTRESSES         32967  0.164835 %\n",
      "PUREBRED_DOGS      32928   0.16464 %\n",
      "RANGES             32645  0.163225 %\n",
      "REFRIGERATORS      32635  0.163175 % \n",
      "...\n",
      "\n",
      "                                      Qntd  Percentage\n",
      "STADIOMETERS                           229  0.001145 %\n",
      "HONEY_EXTRACTORS                       216   0.00108 %\n",
      "FORCE_GAUGES                           213  0.001065 %\n",
      "CONSTRUCTION_LIME_BAGS                 206   0.00103 %\n",
      "COLD_FOOD_AND_DRINK_VENDING_MACHINES   162   0.00081 %\n",
      "PAINTBALL_SMOKE_GRENADES               154   0.00077 %\n",
      "COMMERCIAL_POPCORN_MACHINES            141  0.000705 %\n",
      "HAMBURGER_FORMERS                      109  0.000545 %\n",
      "\n",
      " count     1588.000000\n",
      "mean     12594.458438\n",
      "std       8218.029504\n",
      "min        109.000000\n",
      "25%       5042.750000\n",
      "50%      12399.500000\n",
      "75%      19104.750000\n",
      "max      35973.000000\n",
      "Name: Qntd, dtype: float64\n"
     ]
    }
   ],
   "source": [
    "category_freq = train['category'].value_counts()\n",
    "category_freq = pd.DataFrame({'Qntd':  category_freq.values, 'Percentage': category_freq.apply(lambda x: '{0} %'.format(x*100/train_size))})\n",
    "print(category_freq.head(8), '\\n...\\n')\n",
    "print(category_freq.tail(8))\n",
    "print('\\n', category_freq['Qntd'].describe())"
   ]
  },
  {
   "cell_type": "code",
   "execution_count": 11,
   "metadata": {},
   "outputs": [
    {
     "data": {
      "text/plain": [
       "[]"
      ]
     },
     "execution_count": 11,
     "metadata": {},
     "output_type": "execute_result"
    },
    {
     "data": {
      "image/png": "[encoded data removed]",
      "text/plain": [
       "<Figure size 1440x360 with 1 Axes>"
      ]
     },
     "metadata": {
      "needs_background": "light"
     },
     "output_type": "display_data"
    }
   ],
   "source": [
    "fig, axes = matplotlib.pyplot.subplots(figsize=(20, 5), nrows=1, ncols=1)\n",
    "category_freq['Qntd'].plot(kind='bar', ax=axes).get_xaxis().set_ticks([])"
   ]
  },
  {
   "cell_type": "code",
   "execution_count": 12,
   "metadata": {},
   "outputs": [],
   "source": [
    "cat_freq_port = train[train['language'] == 'portuguese']['category'].value_counts()[category_freq.index].fillna(0)\n",
    "cat_freq_esp = train[train['language'] == 'spanish']['category'].value_counts()[category_freq.index].fillna(0)\n",
    "cat_freq_unrel = train[train['label_quality'] == 'unreliable']['category'].value_counts()[category_freq.index].fillna(0)\n",
    "cat_freq_rel = train[train['label_quality'] == 'reliable']['category'].value_counts()[category_freq.index].fillna(0)"
   ]
  },
  {
   "cell_type": "code",
   "execution_count": 13,
   "metadata": {},
   "outputs": [
    {
     "data": {
      "text/plain": [
       "[]"
      ]
     },
     "execution_count": 13,
     "metadata": {},
     "output_type": "execute_result"
    },
    {
     "data": {
      "image/png": "[encoded data removed]",
      "text/plain": [
       "<Figure size 1440x1440 with 4 Axes>"
      ]
     },
     "metadata": {
      "needs_background": "light"
     },
     "output_type": "display_data"
    }
   ],
   "source": [
    "fig, axes = matplotlib.pyplot.subplots(figsize=(20, 20), nrows=4, ncols=1)\n",
    "cat_freq_port.plot(kind='bar', ax=axes[0]).get_xaxis().set_ticks([])\n",
    "cat_freq_esp.plot(kind='bar', ax=axes[1]).get_xaxis().set_ticks([])\n",
    "cat_freq_unrel.plot(kind='bar', ax=axes[2]).get_xaxis().set_ticks([])\n",
    "cat_freq_rel.plot(kind='bar', ax=axes[3]).get_xaxis().set_ticks([])"
   ]
  },
  {
   "cell_type": "code",
   "execution_count": 14,
   "metadata": {},
   "outputs": [
    {
     "data": {
      "text/plain": [
       "PANTS                                   1405.0\n",
       "COFFEE_MAKERS                            110.0\n",
       "BABY_CAR_SEATS                          1583.0\n",
       "MUSICAL_KEYBOARDS                       1912.0\n",
       "MATTRESSES                              1653.0\n",
       "                                         ...  \n",
       "CONSTRUCTION_LIME_BAGS                   206.0\n",
       "COLD_FOOD_AND_DRINK_VENDING_MACHINES      50.0\n",
       "PAINTBALL_SMOKE_GRENADES                 154.0\n",
       "COMMERCIAL_POPCORN_MACHINES               69.0\n",
       "HAMBURGER_FORMERS                         63.0\n",
       "Name: category, Length: 1588, dtype: float64"
      ]
     },
     "execution_count": 14,
     "metadata": {},
     "output_type": "execute_result"
    }
   ],
   "source": [
    "abs(cat_freq_port - cat_freq_esp)"
   ]
  },
  {
   "cell_type": "code",
   "execution_count": 15,
   "metadata": {},
   "outputs": [
    {
     "name": "stdout",
     "output_type": "stream",
     "text": [
      "N Categories only in portuguese: 14\n",
      "N Categories only in spanish: 12\n"
     ]
    }
   ],
   "source": [
    "cat_freq_port_norm = cat_freq_port/category_freq['Qntd']\n",
    "print('N Categories only in portuguese:' ,cat_freq_port_norm[cat_freq_port_norm == 1.00].count())\n",
    "print('N Categories only in spanish:' ,cat_freq_port_norm[cat_freq_port_norm == 0.00].count())"
   ]
  },
  {
   "cell_type": "code",
   "execution_count": 19,
   "metadata": {},
   "outputs": [
    {
     "name": "stdout",
     "output_type": "stream",
     "text": [
      "N Categories only in reliable: 0\n",
      "N Categories only in non-reliable: 193\n"
     ]
    }
   ],
   "source": [
    "cat_freq_rel_norm = cat_freq_rel/category_freq['Qntd']\n",
    "print('N Categories only in reliable:' ,cat_freq_rel_norm[cat_freq_rel_norm == 1.00].count())\n",
    "print('N Categories only in non-reliable:' ,cat_freq_rel_norm[cat_freq_rel_norm == 0.00].count())"
   ]
  },
  {
   "cell_type": "code",
   "execution_count": 86,
   "metadata": {},
   "outputs": [],
   "source": [
    "rel_cats_filters = cat_freq_rel[cat_freq_rel == 0].index"
   ]
  },
  {
   "cell_type": "code",
   "execution_count": 83,
   "metadata": {},
   "outputs": [
    {
     "data": {
      "text/plain": [
       "[]"
      ]
     },
     "execution_count": 83,
     "metadata": {},
     "output_type": "execute_result"
    },
    {
     "data": {
      "image/png": "[encoded data removed]",
      "text/plain": [
       "<Figure size 1440x360 with 1 Axes>"
      ]
     },
     "metadata": {
      "needs_background": "light"
     },
     "output_type": "display_data"
    }
   ],
   "source": [
    "fig, axes = matplotlib.pyplot.subplots(figsize=(20, 5), nrows=1, ncols=1)\n",
    "category_freq_qtnd = category_freq['Qntd'].copy()\n",
    "category_freq_negative = category_freq['Qntd'].copy()\n",
    "def conv(x):\n",
    "    if(x.name in rel_cats_filters):\n",
    "        x[0] = 0\n",
    "    return x\n",
    "def conv_neg(x):\n",
    "    if(x.name not in rel_cats_filters):\n",
    "        x[0] = 0\n",
    "    return x\n",
    "category_freq_qtnd = category_freq_qtnd.to_frame(0).apply(conv, axis=1)[0]\n",
    "category_freq_qtnd.plot(kind='bar', ax=axes).get_xaxis().set_ticks([])\n",
    "category_freq_negative = category_freq_negative.to_frame(0).apply(conv_neg, axis=1)[0]\n",
    "category_freq_negative.plot(kind='bar', ax=axes, color='r').get_xaxis().set_ticks([])"
   ]
  },
  {
   "cell_type": "code",
   "execution_count": 99,
   "metadata": {},
   "outputs": [],
   "source": [
    "cat_freq_rel_lang = train[train['label_quality'] == 'reliable'][['category', 'language']]\n",
    "cat_freq_rel_pt = cat_freq_rel_lang[cat_freq_rel_lang['language'] == 'portuguese']['category'].value_counts()[category_freq.index].fillna(0)\n",
    "cat_freq_rel_es = cat_freq_rel_lang[cat_freq_rel_lang['language'] == 'spanish']['category'].value_counts()[category_freq.index].fillna(0)"
   ]
  },
  {
   "cell_type": "code",
   "execution_count": 101,
   "metadata": {},
   "outputs": [
    {
     "name": "stdout",
     "output_type": "stream",
     "text": [
      "N Categories not in pt reliable: 408\n",
      "N Categories not in es reliable: 526\n"
     ]
    }
   ],
   "source": [
    "print('N Categories not in pt reliable:' ,cat_freq_rel_pt[cat_freq_rel_pt == 0.00].count())\n",
    "print('N Categories not in es reliable:' ,cat_freq_rel_es[cat_freq_rel_es == 0.00].count())"
   ]
  },
  {
   "cell_type": "code",
   "execution_count": 102,
   "metadata": {},
   "outputs": [
    {
     "data": {
      "text/plain": [
       "Index(['SWEATERS_AND_CARDIGANS', 'CHOCOLATES', 'CAR_CARBURETORS',\n",
       "       'WRENCH_SETS', 'SOUND_CONSOLES_AND_DJ_MIXERS', 'CLASSIC_CARS',\n",
       "       'CONCERT_TICKETS', 'DECORATIVE_PAINTINGS', 'PACKAGING_BOXES',\n",
       "       'FIDGET_SPINNERS',\n",
       "       ...\n",
       "       'BOXING_SPEED_BAGS', 'MANUAL_TROLLEYS', 'SCALE_RULERS',\n",
       "       'QUEUE_STANCHIONS', 'FORCE_GAUGES', 'CONSTRUCTION_LIME_BAGS',\n",
       "       'COLD_FOOD_AND_DRINK_VENDING_MACHINES', 'PAINTBALL_SMOKE_GRENADES',\n",
       "       'COMMERCIAL_POPCORN_MACHINES', 'HAMBURGER_FORMERS'],\n",
       "      dtype='object', length=408)"
      ]
     },
     "execution_count": 102,
     "metadata": {},
     "output_type": "execute_result"
    }
   ],
   "source": [
    "with open('./da')\n",
    "cat_freq_rel_pt[cat_freq_rel_pt == 0.00].index"
   ]
  },
  {
   "cell_type": "code",
   "execution_count": 16,
   "metadata": {},
   "outputs": [
    {
     "data": {
      "text/plain": [
       "<matplotlib.lines.Line2D at 0x7f3262d50630>"
      ]
     },
     "execution_count": 16,
     "metadata": {},
     "output_type": "execute_result"
    },
    {
     "data": {
      "image/png": "[encoded data removed]",
      "text/plain": [
       "<Figure size 1440x360 with 1 Axes>"
      ]
     },
     "metadata": {
      "needs_background": "light"
     },
     "output_type": "display_data"
    }
   ],
   "source": [
    "fig, axes = matplotlib.pyplot.subplots(figsize=(20, 5), nrows=1, ncols=1)\n",
    "(cat_freq_port/category_freq['Qntd']).plot(kind='bar', color='b', ax=axes).get_xaxis().set_ticks([])\n",
    "(cat_freq_esp*-1/category_freq['Qntd']).plot(kind='bar', color='r', ax=axes).get_xaxis().set_ticks([])\n",
    "axes.axhline(0.5)\n",
    "axes.axhline(0.75)\n",
    "axes.axhline(1)\n",
    "axes.axhline(-0.75)\n",
    "axes.axhline(-0.5)\n",
    "axes.axhline(-1)"
   ]
  },
  {
   "cell_type": "code",
   "execution_count": 17,
   "metadata": {},
   "outputs": [
    {
     "data": {
      "text/plain": [
       "INDUSTRIAL_BLENDERS                0.527241\n",
       "MUSICAL_KEYBOARD_CASES_AND_BAGS    0.418224\n",
       "FOOTBALL_SHIRTS                    0.321192\n",
       "JACKETS_AND_COATS                  0.320763\n",
       "HANDBAGS                           0.319983\n",
       "                                     ...   \n",
       "GARDEN_CHAIRS                      0.000000\n",
       "INDUSTRIAL_COOKING_OVENS           0.000000\n",
       "ARTIFICIAL_FEATHERS                0.000000\n",
       "DOOR_AND_GATE_REMOTE_CONTROLS      0.000000\n",
       "HAMBURGER_FORMERS                  0.000000\n",
       "Length: 1588, dtype: float64"
      ]
     },
     "execution_count": 17,
     "metadata": {},
     "output_type": "execute_result"
    }
   ],
   "source": [
    "(cat_freq_rel/category_freq['Qntd']).sort_values(ascending=False)"
   ]
  },
  {
   "cell_type": "code",
   "execution_count": 18,
   "metadata": {},
   "outputs": [
    {
     "name": "stdout",
     "output_type": "stream",
     "text": [
      "Train: \n",
      " count      2e+07\n",
      "mean     47.8666\n",
      "std      12.2868\n",
      "min            3\n",
      "25%           40\n",
      "50%           52\n",
      "75%           58\n",
      "max          120\n",
      "Name: length, dtype: object\n",
      "\n",
      "Test: \n",
      " count     246955\n",
      "mean     49.0328\n",
      "std      11.6908\n",
      "min            3\n",
      "25%           43\n",
      "50%           54\n",
      "75%           58\n",
      "max           60\n",
      "Name: length, dtype: object\n"
     ]
    }
   ],
   "source": [
    "train['length'] = train['title'].apply(len)\n",
    "test['length'] = test['title'].apply(len)\n",
    "print('Train: \\n', train['length'].describe().apply(lambda x: format(x, 'g')))\n",
    "print('\\nTest: \\n', test['length'].describe().apply(lambda x: format(x, 'g')))"
   ]
  },
  {
   "cell_type": "code",
   "execution_count": 15,
   "metadata": {},
   "outputs": [
    {
     "data": {
      "text/plain": [
       "<matplotlib.axes._subplots.AxesSubplot at 0x2129ae07710>"
      ]
     },
     "execution_count": 15,
     "metadata": {},
     "output_type": "execute_result"
    },
    {
     "data": {
      "image/png": "[encoded data removed]",
      "text/plain": [
       "<Figure size 1440x720 with 2 Axes>"
      ]
     },
     "metadata": {
      "needs_background": "light"
     },
     "output_type": "display_data"
    }
   ],
   "source": [
    "fig, axes = matplotlib.pyplot.subplots(figsize=(20, 10), nrows=1, ncols=2)\n",
    "train['length'].hist(bins=100, ax=axes[0])\n",
    "test['length'].hist(bins=20, ax=axes[1])"
   ]
  },
  {
   "cell_type": "code",
   "execution_count": 16,
   "metadata": {},
   "outputs": [
    {
     "name": "stdout",
     "output_type": "stream",
     "text": [
      "Len > 60:  81113  -  0.405565 % of the dataset\n"
     ]
    },
    {
     "data": {
      "text/html": [
       "<div>\n",
       "<style scoped>\n",
       "    .dataframe tbody tr th:only-of-type {\n",
       "        vertical-align: middle;\n",
       "    }\n",
       "\n",
       "    .dataframe tbody tr th {\n",
       "        vertical-align: top;\n",
       "    }\n",
       "\n",
       "    .dataframe thead th {\n",
       "        text-align: right;\n",
       "    }\n",
       "</style>\n",
       "<table border=\"1\" class=\"dataframe\">\n",
       "  <thead>\n",
       "    <tr style=\"text-align: right;\">\n",
       "      <th></th>\n",
       "      <th>title</th>\n",
       "      <th>label_quality</th>\n",
       "      <th>language</th>\n",
       "      <th>category</th>\n",
       "      <th>length</th>\n",
       "    </tr>\n",
       "  </thead>\n",
       "  <tbody>\n",
       "    <tr>\n",
       "      <th>620</th>\n",
       "      <td>Tecla Levantacristal Derecha Original Fiat Str...</td>\n",
       "      <td>unreliable</td>\n",
       "      <td>spanish</td>\n",
       "      <td>CAR_WINDOW_SWITCHES</td>\n",
       "      <td>79</td>\n",
       "    </tr>\n",
       "    <tr>\n",
       "      <th>1266</th>\n",
       "      <td>Bomba Direccion Hidraulica Fiat Nuevo Palio Fa...</td>\n",
       "      <td>unreliable</td>\n",
       "      <td>spanish</td>\n",
       "      <td>CAR_POWER_STEERING_PUMPS</td>\n",
       "      <td>64</td>\n",
       "    </tr>\n",
       "    <tr>\n",
       "      <th>1284</th>\n",
       "      <td>Árvore De Natal Dinamarca Verde 1,8 Metros 580...</td>\n",
       "      <td>unreliable</td>\n",
       "      <td>portuguese</td>\n",
       "      <td>CHRISTMAS_TREES</td>\n",
       "      <td>73</td>\n",
       "    </tr>\n",
       "    <tr>\n",
       "      <th>1449</th>\n",
       "      <td>Leve Junto! 50 Protetores Auriculares De Silic...</td>\n",
       "      <td>unreliable</td>\n",
       "      <td>portuguese</td>\n",
       "      <td>SWIMMING_EARPLUGS</td>\n",
       "      <td>81</td>\n",
       "    </tr>\n",
       "    <tr>\n",
       "      <th>1738</th>\n",
       "      <td>Suéter Feminino Linha Feito Em Tricô Decote V ...</td>\n",
       "      <td>unreliable</td>\n",
       "      <td>portuguese</td>\n",
       "      <td>SWEATERS_AND_CARDIGANS</td>\n",
       "      <td>63</td>\n",
       "    </tr>\n",
       "  </tbody>\n",
       "</table>\n",
       "</div>"
      ],
      "text/plain": [
       "                                                  title label_quality  \\\n",
       "620   Tecla Levantacristal Derecha Original Fiat Str...    unreliable   \n",
       "1266  Bomba Direccion Hidraulica Fiat Nuevo Palio Fa...    unreliable   \n",
       "1284  Árvore De Natal Dinamarca Verde 1,8 Metros 580...    unreliable   \n",
       "1449  Leve Junto! 50 Protetores Auriculares De Silic...    unreliable   \n",
       "1738  Suéter Feminino Linha Feito Em Tricô Decote V ...    unreliable   \n",
       "\n",
       "        language                  category  length  \n",
       "620      spanish       CAR_WINDOW_SWITCHES      79  \n",
       "1266     spanish  CAR_POWER_STEERING_PUMPS      64  \n",
       "1284  portuguese           CHRISTMAS_TREES      73  \n",
       "1449  portuguese         SWIMMING_EARPLUGS      81  \n",
       "1738  portuguese    SWEATERS_AND_CARDIGANS      63  "
      ]
     },
     "execution_count": 16,
     "metadata": {},
     "output_type": "execute_result"
    }
   ],
   "source": [
    "len_gt_60 = train[train['length'] > 60]\n",
    "print('Len > 60: ', len(len_gt_60), ' - ', len(len_gt_60)*100/train_size, '% of the dataset' )\n",
    "len_gt_60.head()"
   ]
  },
  {
   "cell_type": "code",
   "execution_count": 17,
   "metadata": {},
   "outputs": [
    {
     "name": "stdout",
     "output_type": "stream",
     "text": [
      "unreliable    81113\n",
      "Name: label_quality, dtype: int64 \n",
      "\n",
      "spanish       45221\n",
      "portuguese    35892\n",
      "Name: language, dtype: int64 \n",
      "\n",
      "LAPTOP_BATTERIES                       1591\n",
      "HOUSE_FENCES                            828\n",
      "DESKTOP_COMPUTER_COOLERS_AND_FANS       788\n",
      "DECORATIVE_PAINTINGS                    673\n",
      "MATTRESSES                              563\n",
      "MICROMETERS                             557\n",
      "AUTOMOTIVE_SUSPENSION_CONTROL_ARMS      535\n",
      "LATEX_ENAMEL_AND_ACRYLIC_PAINTS         445\n",
      "SUITCASES                               441\n",
      "CAR_WINDOW_SWITCHES                     422\n",
      "PORTABLE_GENERATORS                     413\n",
      "BOX_SPRING_AND_MATTRESS_SETS            398\n",
      "OFFICE_CHAIRS                           366\n",
      "AUTOMOTIVE_BATTERIES                    345\n",
      "CELLPHONE_BATTERIES                     344\n",
      "SURVEILLANCE_MONITORING_KITS            343\n",
      "ENGINE_CRANKSHAFT_PULLEYS               321\n",
      "SCREWS                                  311\n",
      "ELECTRIC_DRILLS                         301\n",
      "CAR_SCANNERS                            301\n",
      "CV_JOINTS                               290\n",
      "BATHROOM_VANITIES                       280\n",
      "DRILLS_SCREWDRIVERS                     276\n",
      "RAM_MEMORY_MODULES                      273\n",
      "POWER_GRINDERS                          261\n",
      "CALIPERS                                259\n",
      "DRILL_BITS                              259\n",
      "ALARMS_AND_SENSORS                      258\n",
      "RACKS_AND_PINIONS                       257\n",
      "SURFACES_PROTECTIVE_PAINTS              254\n",
      "                                       ... \n",
      "HABERDASHERY_RIBBONS                      1\n",
      "FAX_MACHINES                              1\n",
      "SEWING_THREADS                            1\n",
      "NON_SLIP_BATHTUB_APPLIQUES_AND_MATS       1\n",
      "WOOD_BURNING_MACHINES                     1\n",
      "BOARD_GAMES                               1\n",
      "TEAPOTS                                   1\n",
      "ICE_MAKERS                                1\n",
      "SCALEXTRIC_CARS                           1\n",
      "VIDEO_CASSETTES                           1\n",
      "PENCIL_CASES                              1\n",
      "EDIBLE_SEEDS                              1\n",
      "CHARANGOS                                 1\n",
      "TONFAS                                    1\n",
      "CAR_EXHAUSTS                              1\n",
      "NEBULIZERS                                1\n",
      "CONCRETE_BLOCKS                           1\n",
      "DEBRIS_BAGS                               1\n",
      "ICE_CREAM_MACHINES                        1\n",
      "MEAT_HOOKS                                1\n",
      "CANOES                                    1\n",
      "DJEMBES                                   1\n",
      "PILATES_REFORMERS                         1\n",
      "URINALS                                   1\n",
      "CONFETTI_SHOOTERS                         1\n",
      "LAPTOP_SKINS                              1\n",
      "HEARING_AIDS                              1\n",
      "CUPCAKE_STANDS                            1\n",
      "MODELISM_SERVO_MOTORS                     1\n",
      "HEATING_PADS                              1\n",
      "Name: category, Length: 1347, dtype: int64\n"
     ]
    }
   ],
   "source": [
    "print(len_gt_60['label_quality'].value_counts(), '\\n')\n",
    "print(len_gt_60['language'].value_counts(), '\\n')\n",
    "print(len_gt_60['category'].value_counts())"
   ]
  },
  {
   "cell_type": "code",
   "execution_count": null,
   "metadata": {},
   "outputs": [],
   "source": [
    "import util\n",
    "from joblib import load\n",
    "import pandas as pd\n",
    "import matplotlib\n",
    "%matplotlib inline"
   ]
  },
  {
   "cell_type": "code",
   "execution_count": 2,
   "metadata": {},
   "outputs": [],
   "source": [
    "train_preprocessed = pd.read_csv('data/train_preprocessed.csv')"
   ]
  },
  {
   "cell_type": "code",
   "execution_count": 3,
   "metadata": {},
   "outputs": [],
   "source": [
    "train_preprocessed['qntd_tokens'] = train_preprocessed['title'].apply(lambda x: str(x).count(' ')+1)"
   ]
  },
  {
   "cell_type": "code",
   "execution_count": 4,
   "metadata": {},
   "outputs": [
    {
     "data": {
      "text/plain": [
       "count      2e+07\n",
       "mean     5.63847\n",
       "std      1.87082\n",
       "min            1\n",
       "25%            4\n",
       "50%            6\n",
       "75%            7\n",
       "max           31\n",
       "Name: qntd_tokens, dtype: object"
      ]
     },
     "execution_count": 4,
     "metadata": {},
     "output_type": "execute_result"
    }
   ],
   "source": [
    "train_preprocessed['qntd_tokens'].describe().apply(lambda x: format(x, 'g'))"
   ]
  },
  {
   "cell_type": "code",
   "execution_count": 8,
   "metadata": {},
   "outputs": [
    {
     "data": {
      "text/plain": [
       "<matplotlib.axes._subplots.AxesSubplot at 0x7efc7fc85e48>"
      ]
     },
     "execution_count": 8,
     "metadata": {},
     "output_type": "execute_result"
    },
    {
     "data": {
      "image/png": "[encoded data removed]",
      "text/plain": [
       "<Figure size 432x288 with 1 Axes>"
      ]
     },
     "metadata": {
      "needs_background": "light"
     },
     "output_type": "display_data"
    }
   ],
   "source": [
    "train_preprocessed['qntd_tokens'].hist(bins=31)"
   ]
  },
  {
   "cell_type": "code",
   "execution_count": 6,
   "metadata": {},
   "outputs": [
    {
     "data": {
      "text/plain": [
       "1       0.405690\n",
       "2       4.434205\n",
       "3      13.669580\n",
       "4      27.865630\n",
       "5      46.641755\n",
       "6      67.260590\n",
       "7      84.263520\n",
       "8      94.169695\n",
       "9      98.239660\n",
       "10     99.503170\n",
       "11     99.840135\n",
       "12     99.932215\n",
       "13     99.965240\n",
       "14     99.981630\n",
       "15     99.990465\n",
       "16     99.995220\n",
       "17     99.997545\n",
       "18     99.998550\n",
       "19     99.999190\n",
       "20     99.999600\n",
       "21     99.999840\n",
       "22     99.999920\n",
       "23     99.999965\n",
       "24     99.999970\n",
       "25     99.999975\n",
       "26     99.999985\n",
       "27     99.999990\n",
       "31    100.000000\n",
       "Name: qntd_tokens, dtype: float64"
      ]
     },
     "execution_count": 6,
     "metadata": {},
     "output_type": "execute_result"
    }
   ],
   "source": [
    "(train_preprocessed['qntd_tokens'].value_counts().sort_index().cumsum())*100/len(train_preprocessed['qntd_tokens'])"
   ]
  }
 ],
 "metadata": {
  "kernelspec": {
   "display_name": "Python 3",
   "language": "python",
   "name": "python3"
  },
  "language_info": {
   "codemirror_mode": {
    "name": "ipython",
    "version": 3
   },
   "file_extension": ".py",
   "mimetype": "text/x-python",
   "name": "python",
   "nbconvert_exporter": "python",
   "pygments_lexer": "ipython3",
   "version": "3.6.8"
  }
 },
 "nbformat": 4,
 "nbformat_minor": 4
}
